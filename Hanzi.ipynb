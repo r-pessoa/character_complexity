{
  "nbformat": 4,
  "nbformat_minor": 0,
  "metadata": {
    "colab": {
      "name": "Hanzi.ipynb",
      "provenance": [],
      "collapsed_sections": []
    },
    "kernelspec": {
      "name": "python3",
      "display_name": "Python 3"
    }
  },
  "cells": [
    {
      "cell_type": "code",
      "metadata": {
        "id": "kFdCwFt9AwYP"
      },
      "source": [
        "from cjk_decomp_full import characters_dictionary\r\n",
        "from frequent_characters import frequent_characters_list\r\n"
      ],
      "execution_count": 82,
      "outputs": []
    },
    {
      "cell_type": "code",
      "metadata": {
        "id": "TQ4eriu9BEjQ"
      },
      "source": [
        "# Three-level recursion\r\n",
        "\r\n",
        "def decompose_character(character):\r\n",
        "  char_dict = {character:[]}\r\n",
        "  # Retrieves from characters dictionary a list of current character's\r\n",
        "  # radicals\r\n",
        "  if character in characters_dictionary.keys():\r\n",
        "    list_radicals = characters_dictionary[character]\r\n",
        "  else:\r\n",
        "    return None\r\n",
        "  \r\n",
        "  for radical in list_radicals:\r\n",
        "    char_dict[character].append(radical)\r\n",
        "    # If a radical is listed in the character dictionary as a \r\n",
        "    # character on its own, decompose it further\r\n",
        "    if radical in characters_dictionary.keys():\r\n",
        "      list_subradicals = characters_dictionary[radical]\r\n",
        "      for subradical in list_subradicals:\r\n",
        "        char_dict[character].append(subradical)\r\n",
        "        if subradical in characters_dictionary.keys():\r\n",
        "          list_subsubradicals = characters_dictionary[subradical]\r\n",
        "          for subsubradical in list_subsubradicals:\r\n",
        "            char_dict[character].append(subsubradical)\r\n",
        "  return char_dict\r\n",
        "\r\n",
        "# Obtain full decomposition for 1000 frequent characters\r\n",
        "for hanzi in frequent_characters_list:\r\n",
        "  print(decompose_character(hanzi))\r\n",
        "\r\n",
        "\r\n",
        "\r\n"
      ],
      "execution_count": null,
      "outputs": []
    },
    {
      "cell_type": "code",
      "metadata": {
        "id": "P1KtFWyobD8F"
      },
      "source": [
        "# Counting most frequent radicals / strokes\r\n",
        "# Importing ready-to-use dictionary of fully decomposed characters\r\n",
        "# generated using the steps above\r\n",
        "\r\n",
        "from decomposition_dictionary import decomposition_dictionary\r\n"
      ],
      "execution_count": 85,
      "outputs": []
    },
    {
      "cell_type": "code",
      "metadata": {
        "id": "qc3tDlehpeD6"
      },
      "source": [
        "# Saving all radical and strokes, including repeated ones, in a list\r\n",
        "total_list = []\r\n",
        "for item in decomposition_dictionary.values():\r\n",
        "  total_list.append(item[0])\r\n",
        "# Saving all radicals and strokes, without duplicates\r\n",
        "total_set = set(total_list)\r\n",
        "\r\n",
        "# Building final dictionary containing stroke/radical frequency\r\n",
        "total_dict = {}\r\n",
        "for item in total_set:\r\n",
        "  total_dict[item] = total_list.count(item)\r\n",
        "\r\n",
        "# sorted_dict = {k: v for k, v in sorted(total_dict.items(), key=lambda item: item[1])}\r\n",
        "\r\n",
        "#Next step: create a score system attributing a score to each character according to its own frequency * the frequency of its radicals\r\n"
      ],
      "execution_count": null,
      "outputs": []
    },
    {
      "cell_type": "code",
      "metadata": {
        "id": "RLgXx8EAvNLi"
      },
      "source": [
        "import pandas as pd"
      ],
      "execution_count": 102,
      "outputs": []
    },
    {
      "cell_type": "code",
      "metadata": {
        "id": "bNBQx2VJvv1P"
      },
      "source": [
        "df = pd.read_csv(\"1000freq.csv\", sep=\"\\t\", header=None)\r\n",
        "df.drop(columns=[0,3,4,5],inplace=True)\r\n",
        "df.reset_index()\r\n",
        "\r\n",
        "# Adding a column from decomposition_dictionary\r\n",
        "\r\n",
        "df['Decomposition'] = list(decomposition_dictionary.values())\r\n",
        "\r\n",
        "# Calculating score for each character in a score_dictionary\r\n",
        "# Characters are rewarded for having frequent radicals, but also (exponentially) penalized for having too many strokes\r\n",
        "\r\n",
        "score_dictionary = {}\r\n",
        "for character in decomposition_dictionary:\r\n",
        "  score = 0\r\n",
        "  for radical in decomposition_dictionary[character]:\r\n",
        "    if radical in total_dict:\r\n",
        "      score += total_dict[radical]\r\n",
        "  score_dictionary[character] = score / len(decomposition_dictionary[character])**2\r\n",
        "\r\n",
        "df['Radical & Stroke Score'] = score_dictionary.values()\r\n",
        "\r\n",
        "df['Total Score'] = df[2] * df['Radical & Stroke Score'] / 1000000\r\n",
        "df.sort_values(by=['Total Score'],ascending=False)\r\n",
        "\r\n",
        "df.to_excel('finaltable.xlsx')"
      ],
      "execution_count": 155,
      "outputs": []
    }
  ]
}
